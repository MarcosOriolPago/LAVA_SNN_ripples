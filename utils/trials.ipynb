{
 "cells": [
  {
   "cell_type": "code",
   "execution_count": 1,
   "metadata": {},
   "outputs": [],
   "source": [
    "import numpy as np\n",
    "from plot_line import create_fig\n",
    "import bokeh.plotting as bplt\n",
    "\n",
    "import sys\n",
    "sys.path.insert(0, '../liset_tk/')\n",
    "from liset_tk import liset_tk\n",
    "from signal_aid import bandpass_filter"
   ]
  },
  {
   "cell_type": "markdown",
   "metadata": {},
   "source": [
    "### **Load the data**"
   ]
  },
  {
   "cell_type": "code",
   "execution_count": 31,
   "metadata": {},
   "outputs": [],
   "source": [
    "ripples = np.load('../../validation_ripples.npy')\n",
    "predictions = np.load('../../pytorchSNN_predictions.npy')\n",
    "SNN_output = np.load('../../output.npy')"
   ]
  },
  {
   "cell_type": "code",
   "execution_count": 32,
   "metadata": {},
   "outputs": [],
   "source": [
    "SNN_output[SNN_output == 0] = None"
   ]
  },
  {
   "cell_type": "code",
   "execution_count": 13,
   "metadata": {},
   "outputs": [
    {
     "name": "stdout",
     "output_type": "stream",
     "text": [
      "Downsampling data from 30000 Hz to 4000 Hz... Done!\n",
      "Normalizing data... Done!\n",
      "Shape of loaded data after downsampling and z-score:  (4000000, 8)\n"
     ]
    }
   ],
   "source": [
    "path = '../../Amigo2_1_hippo_2019-07-11_11-57-07_1150um'\n",
    "liset = liset_tk(path, shank=3, downsample=4000, numSamples=30000000)"
   ]
  },
  {
   "cell_type": "code",
   "execution_count": 14,
   "metadata": {},
   "outputs": [],
   "source": [
    "channel = bandpass_filter(liset.data[:, 5], [100, 250], 4000)"
   ]
  },
  {
   "cell_type": "markdown",
   "metadata": {},
   "source": [
    "### **create the figure**"
   ]
  },
  {
   "cell_type": "code",
   "execution_count": 33,
   "metadata": {},
   "outputs": [],
   "source": [
    "start, stop = 2000000, 2500000\n",
    "x = np.arange(start/4000, stop / 4000, 1/4000)\n",
    "\n",
    "hfo_plot = create_fig(\n",
    "    title = 'Validation test',\n",
    "    x_axis_label='Time (s)',\n",
    "    y_axis_label='',\n",
    "    x = x,\n",
    "    y_arrays=[\n",
    "        [channel[start:stop] - 5, 'Filtered LFPs'],\n",
    "        [liset.data[start:stop, 5], 'Raw LFPs']\n",
    "        ],\n",
    "    sizing_mode=\"stretch_both\", \n",
    "    tools=\"pan, box_zoom, wheel_zoom, hover, undo, redo, zoom_in, zoom_out, reset, save\",\n",
    "    tooltips=\"Data point @x: @y\",\n",
    "    legend_location=\"top_right\"\n",
    "    )\n",
    "\n",
    "scatter_plot = hfo_plot.scatter(x, SNN_output[start:stop] * -7, size=2, color=\"Black\", alpha=0.6, legend_label=\"SNN Output\")\n",
    "\n",
    "hfo_plot.xgrid.visible = False\n",
    "hfo_plot.ygrid.visible = False"
   ]
  },
  {
   "cell_type": "code",
   "execution_count": 34,
   "metadata": {},
   "outputs": [],
   "source": [
    "from bokeh.models import BoxAnnotation, LegendItem\n",
    "\n",
    "mask_ripples = (ripples[:, 1] >= start) & (ripples[:, 0] <= stop)\n",
    "window_ripples = ripples[mask_ripples] / 4000\n",
    "\n",
    "for ripple in window_ripples:\n",
    "    vfill = BoxAnnotation(left=ripple[0], right=ripple[1], fill_alpha=0.3, fill_color='#EC6F8F')\n",
    "    hfo_plot.add_layout(vfill)\n",
    "\n",
    "mask_preds = (predictions[:, 1] >= start) & (predictions[:, 0] <= stop)\n",
    "window_preds = predictions[mask_preds] / 4000\n",
    "\n",
    "for pred in window_preds:\n",
    "    vfill = BoxAnnotation(left=pred[0], right=pred[1], fill_alpha=0.3, fill_color='#F7E290')\n",
    "    hfo_plot.add_layout(vfill)\n",
    "\n",
    "hfo_plot.yaxis.axis_line_color = None\n",
    "hfo_plot.yaxis.major_tick_line_color = None\n",
    "hfo_plot.yaxis.minor_tick_line_color = None\n",
    "hfo_plot.yaxis.major_label_text_font_size = '0pt'\n"
   ]
  },
  {
   "cell_type": "code",
   "execution_count": 39,
   "metadata": {},
   "outputs": [
    {
     "data": {
      "text/plain": [
       "array([[605.8445 , 605.88   ],\n",
       "       [605.9395 , 605.98475],\n",
       "       [606.62   , 606.65175],\n",
       "       [606.652  , 606.65225],\n",
       "       [606.6525 , 606.65275],\n",
       "       [606.653  , 606.65325],\n",
       "       [606.6535 , 606.65375],\n",
       "       [606.65425, 606.6545 ],\n",
       "       [607.11   , 607.11025],\n",
       "       [607.11525, 607.153  ],\n",
       "       [607.56625, 607.61   ],\n",
       "       [607.7585 , 607.79975],\n",
       "       [608.01275, 608.01425],\n",
       "       [608.073  , 608.07525],\n",
       "       [608.07575, 608.077  ],\n",
       "       [608.089  , 608.08975],\n",
       "       [611.25675, 611.257  ],\n",
       "       [611.34   , 611.34125],\n",
       "       [611.34175, 611.371  ],\n",
       "       [613.035  , 613.077  ],\n",
       "       [613.0775 , 613.07775],\n",
       "       [615.31325, 615.3505 ],\n",
       "       [615.7535 , 615.758  ],\n",
       "       [615.7705 , 615.81525],\n",
       "       [615.92925, 615.985  ],\n",
       "       [616.29975, 616.34775],\n",
       "       [616.36325, 616.3635 ],\n",
       "       [616.36425, 616.365  ],\n",
       "       [616.36575, 616.3665 ],\n",
       "       [616.64575, 616.66775],\n",
       "       [617.25675, 617.29175],\n",
       "       [617.39875, 617.433  ],\n",
       "       [617.751  , 617.867  ],\n",
       "       [617.96025, 618.03775],\n",
       "       [618.432  , 618.4605 ],\n",
       "       [618.461  , 618.4715 ],\n",
       "       [618.5245 , 618.61825],\n",
       "       [618.7815 , 618.82875],\n",
       "       [619.12375, 619.17625],\n",
       "       [619.2965 , 619.32675],\n",
       "       [619.671  , 619.6985 ],\n",
       "       [621.51325, 621.5475 ],\n",
       "       [621.8425 , 621.88425],\n",
       "       [624.11225, 624.15525]])"
      ]
     },
     "execution_count": 39,
     "metadata": {},
     "output_type": "execute_result"
    }
   ],
   "source": [
    "window_preds[window_preds[:,0] > 605]"
   ]
  },
  {
   "cell_type": "code",
   "execution_count": 35,
   "metadata": {},
   "outputs": [
    {
     "data": {
      "text/plain": [
       "'/home/gatta/marcos/LAVA_SNN_ripples/utils/validation_test_plain.html'"
      ]
     },
     "execution_count": 35,
     "metadata": {},
     "output_type": "execute_result"
    }
   ],
   "source": [
    "import bokeh.plotting as bplt\n",
    "\n",
    "file_path = f\"validation_test_plain.html\"\n",
    "\n",
    "# Customize the output file settings\n",
    "bplt.output_file(filename=file_path, title=\"Voltage dynamics across time\")\n",
    "\n",
    "# Save the plot\n",
    "bplt.save(hfo_plot)"
   ]
  }
 ],
 "metadata": {
  "kernelspec": {
   "display_name": "Python 3",
   "language": "python",
   "name": "python3"
  },
  "language_info": {
   "codemirror_mode": {
    "name": "ipython",
    "version": 3
   },
   "file_extension": ".py",
   "mimetype": "text/x-python",
   "name": "python",
   "nbconvert_exporter": "python",
   "pygments_lexer": "ipython3",
   "version": "3.9.19"
  }
 },
 "nbformat": 4,
 "nbformat_minor": 2
}
