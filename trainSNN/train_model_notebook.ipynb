{
 "cells": [
  {
   "cell_type": "code",
   "execution_count": 1,
   "metadata": {},
   "outputs": [],
   "source": [
    "import os\n",
    "import sys\n",
    "import numpy as np\n",
    "import torch\n",
    "from torch.utils.data import DataLoader\n",
    "from sklearn.model_selection import train_test_split\n",
    "# import slayer from lava-dl\n",
    "import lava.lib.dl.slayer as slayer\n",
    "\n",
    "# Import custom code\n",
    "from network import RipplesNetwork\n",
    "from train_aux import torchSlayer_Dataset\n",
    "\n",
    "# Import subprocess for external commands\n",
    "import subprocess as sh"
   ]
  },
  {
   "cell_type": "code",
   "execution_count": 3,
   "metadata": {},
   "outputs": [
    {
     "name": "stdout",
     "output_type": "stream",
     "text": [
      "Loading data ...Done!\n",
      "Starting training!\n",
      "                                                                                                                                                                                           \n",
      "[Epoch 19/50]\n",
      "Train loss =     0.10555 (min =     0.10024)     accuracy = 0.94495 (max = 0.94808)  \n",
      "Test  loss =     0.10618 (min =     0.10158)     accuracy = 0.93593 (max = 0.94290) \n",
      "                                                                                                                                                                                           \n",
      "[Epoch 39/50]\n",
      "Train loss =     0.10351 (min =     0.10003)     accuracy = 0.95052 (max = 0.95122)  \n",
      "Test  loss =     0.10887 (min =     0.10037)     accuracy = 0.93872 (max = 0.94429) \n",
      "[Epoch 49/50] Train loss =     0.10085 (min =     0.09814)     accuracy = 0.95087 (max = 0.95157)  | Test  loss =     0.11504 (min =     0.09861)     accuracy = 0.94011 (max = 0.94429) 32"
     ]
    }
   ],
   "source": [
    "# Set general variables\n",
    "epochs = 50\n",
    "y_sizes = [50]\n",
    "folder = 'models'\n",
    "for y_size in y_sizes:\n",
    "    trained_folder = f'{folder}/256_128/E{epochs}_Y{y_size}/'\n",
    "    os.makedirs(trained_folder, exist_ok=True)\n",
    "\n",
    "    # Assign the runtime method\n",
    "    device = torch.device('cpu')\n",
    "\n",
    "    # Test-Train data preparation\n",
    "    print('Loading data ...', end='')\n",
    "    true_positives = np.load(f'../dataset/{y_size}/n_true_positives.npy')\n",
    "    true_negatives = np.load(f'../dataset/{y_size}/n_true_negatives.npy')\n",
    "\n",
    "    # Create labels for the datasets (1 for true positives, 0 for true negatives)\n",
    "    labels_positives = np.ones(len(true_positives)).astype(int)\n",
    "    labels_negatives = np.zeros(len(true_negatives)).astype(int)\n",
    "\n",
    "    # Concatenate the datasets and labels\n",
    "    data = np.concatenate((true_positives, true_negatives), axis=0)\n",
    "    labels = np.concatenate((labels_positives, labels_negatives))\n",
    "\n",
    "    # Split the dataset into training and testing sets\n",
    "    train_data, test_data, train_labels, test_labels = train_test_split(data, labels, test_size=0.2, random_state=42, shuffle=True)\n",
    "\n",
    "    train = torchSlayer_Dataset(train_data, train_labels)\n",
    "    test = torchSlayer_Dataset(test_data, test_labels)\n",
    "\n",
    "    train_loader = DataLoader(dataset=train, batch_size=32, shuffle=True)\n",
    "    test_loader  = DataLoader(dataset=test , batch_size=32, shuffle=True)\n",
    "    print('Done!')\n",
    "\n",
    "    # Define the structure of the model\n",
    "    # Create network object and training objects\n",
    "    net = RipplesNetwork(y_input_size=y_size, str_layers=\"256_128\").to(device)\n",
    "    optimizer = torch.optim.Adam(net.parameters(), lr=0.001)\n",
    "    error = slayer.loss.SpikeRate(true_rate=0.2, false_rate=0.03, reduction='sum').to(device) \n",
    "    # error = slayer.loss.SpikeTime(time_constant=5, length=100, filter_order=1, reduction='sum').to(device)\n",
    "    stats = slayer.utils.LearningStats()\n",
    "    assistant = slayer.utils.Assistant(net, error, optimizer, stats, classifier=slayer.classifier.Rate.predict)\n",
    "    # assistant = slayer.utils.Assistant(net, error, optimizer, stats) # Regression mode\n",
    "\n",
    "    # Train the model\n",
    "\n",
    "    print('Starting training!')\n",
    "    samples = 0\n",
    "    for epoch in range(epochs):\n",
    "        samples = 0\n",
    "        for i, (input, label) in enumerate(train_loader): # training loop\n",
    "            samples += input.shape[0]\n",
    "            print(samples, end='\\r', flush=True)\n",
    "            output = assistant.train(input, label)\n",
    "        print(f'\\r[Epoch {epoch:2d}/{epochs}] {stats}', end='')\n",
    "            \n",
    "        for i, (input, label) in enumerate(test_loader): # training loop\n",
    "            output = assistant.test(input, label)\n",
    "        print(f'\\r[Epoch {epoch:2d}/{epochs}] {stats}', end='')\n",
    "            \n",
    "        if epoch%20 == 19: # cleanup display\n",
    "            print('\\r', ' '*len(f'\\r[Epoch {epoch:2d}/{epochs}] {stats}'))\n",
    "            stats_str = str(stats).replace(\"| \", \"\\n\")\n",
    "            print(f'[Epoch {epoch:2d}/{epochs}]\\n{stats_str}')\n",
    "        \n",
    "        if stats.testing.best_accuracy:\n",
    "            torch.save(net, trained_folder + '/network.pt')\n",
    "        stats.update()\n",
    "        stats.save(trained_folder + '/')\n",
    "        # stats.plot(figsize=(15, 5), path=trained_folder)\n",
    "        # net.grad_flow(trained_folder + '/')\n",
    "\n",
    "        # sh.run(['python3.9', 'plot_accuracies.py', folder])\n",
    "        # sh.run(['bash', 'update_git.sh'])\n",
    "    \n"
   ]
  },
  {
   "cell_type": "code",
   "execution_count": null,
   "metadata": {},
   "outputs": [],
   "source": [
    "# Train the model\n",
    "\n",
    "print('Starting training!')\n",
    "samples = 0\n",
    "for epoch in range(epochs):\n",
    "    samples = 0\n",
    "    for i, (input, label) in enumerate(train_loader): # training loop\n",
    "        samples += input.shape[0]\n",
    "        print(samples, end='\\r', flush=True)\n",
    "        output = assistant.train(input, label)\n",
    "    print(f'\\r[Epoch {epoch:2d}/{epochs}] {stats}', end='')\n",
    "        \n",
    "    for i, (input, label) in enumerate(test_loader): # training loop\n",
    "        output = assistant.test(input, label)\n",
    "    print(f'\\r[Epoch {epoch:2d}/{epochs}] {stats}', end='')\n",
    "        \n",
    "    if epoch%20 == 19: # cleanup display\n",
    "        print('\\r', ' '*len(f'\\r[Epoch {epoch:2d}/{epochs}] {stats}'))\n",
    "        stats_str = str(stats).replace(\"| \", \"\\n\")\n",
    "        print(f'[Epoch {epoch:2d}/{epochs}]\\n{stats_str}')\n",
    "    \n",
    "    if stats.testing.best_accuracy:\n",
    "        net.export_hdf5(trained_folder + '/network.net')\n",
    "        torch.save(net.state_dict(), trained_folder + '/network.pt')\n",
    "    stats.update()\n",
    "    stats.save(trained_folder + '/')\n",
    "    # stats.plot(figsize=(15, 5), path=trained_folder)\n",
    "    # net.grad_flow(trained_folder + '/')"
   ]
  },
  {
   "cell_type": "markdown",
   "metadata": {},
   "source": [
    "## Test the model"
   ]
  },
  {
   "cell_type": "code",
   "execution_count": 5,
   "metadata": {},
   "outputs": [],
   "source": [
    "from torch import tensor"
   ]
  },
  {
   "cell_type": "code",
   "execution_count": 6,
   "metadata": {},
   "outputs": [],
   "source": [
    "for input, label in train_loader:\n",
    "    break"
   ]
  },
  {
   "cell_type": "code",
   "execution_count": 61,
   "metadata": {},
   "outputs": [
    {
     "name": "stdout",
     "output_type": "stream",
     "text": [
      "torch.Size([1, 50, 600])\n"
     ]
    }
   ],
   "source": [
    "trial_input = np.load('../report_util/extract_Nripples/input_trial_no_ripple.npy')\n",
    "\n",
    "trial_input2network = torch.zeros((1, trial_input.shape[0], trial_input.shape[1]))\n",
    "\n",
    "trial_input2network[0, :, :] = tensor(trial_input[:, i*trial_input.shape[1]:(i+1)*trial_input.shape[1]])\n",
    "\n",
    "print(trial_input2network.shape)"
   ]
  },
  {
   "cell_type": "code",
   "execution_count": 62,
   "metadata": {},
   "outputs": [
    {
     "data": {
      "text/plain": [
       "torch.Size([1, 2, 600])"
      ]
     },
     "execution_count": 62,
     "metadata": {},
     "output_type": "execute_result"
    }
   ],
   "source": [
    "output = net(trial_input2network.to(device))\n",
    "output.shape"
   ]
  },
  {
   "cell_type": "code",
   "execution_count": 63,
   "metadata": {},
   "outputs": [
    {
     "data": {
      "text/plain": [
       "(2, 600)"
      ]
     },
     "execution_count": 63,
     "metadata": {},
     "output_type": "execute_result"
    }
   ],
   "source": [
    "predictions = np.zeros((output.shape[1], output.shape[0] * output.shape[2]))\n",
    "for i, batch in enumerate(output):\n",
    "    predictions[:, batch.shape[1]*i:batch.shape[1]*(i+1)] = batch.detach().numpy()\n",
    "\n",
    "predictions.shape"
   ]
  },
  {
   "cell_type": "code",
   "execution_count": 10,
   "metadata": {},
   "outputs": [],
   "source": [
    "sys.path.insert(0, '../report_util/extract_Nripples/')\n",
    "from anim import slayer_gif\n",
    "\n",
    "slayer_gif(predictions, filename='../report_util/gifs/output', figsize=(30, 5), fps=5)"
   ]
  },
  {
   "cell_type": "code",
   "execution_count": 12,
   "metadata": {},
   "outputs": [
    {
     "data": {
      "text/html": [
       "<table><tr><td align=\"center\"><b>Input</b></td></tr><tr><td> <img src=\"gifs/ripple.gif\" alt=\"Drawing\" style=\"height: 250px;\"/> </td></tr><tr><td align=\"center\"><b>Output</b></td></tr><tr><td> <img src=\"gifs/output.gif\" alt=\"Drawing\" style=\"height: 250px;\"/> </td></tr></table>"
      ],
      "text/plain": [
       "<IPython.core.display.HTML object>"
      ]
     },
     "execution_count": 12,
     "metadata": {},
     "output_type": "execute_result"
    }
   ],
   "source": [
    "import IPython.display as display\n",
    "\n",
    "gif_td = lambda gif: f'<tr><td> <img src=\"{gif}\" alt=\"Drawing\" style=\"height: 250px;\"/> </td></tr>'\n",
    "html = '<table>'\n",
    "html += '<tr><td align=\"center\"><b>Input</b></td></tr>'\n",
    "html += gif_td(f'gifs/ripple.gif')\n",
    "html += '<tr><td align=\"center\"><b>Output</b></td></tr>'\n",
    "html += gif_td(f'gifs/output.gif')\n",
    "html += '</table>'\n",
    "display.HTML(html)"
   ]
  }
 ],
 "metadata": {
  "kernelspec": {
   "display_name": "Python 3",
   "language": "python",
   "name": "python3"
  },
  "language_info": {
   "codemirror_mode": {
    "name": "ipython",
    "version": 3
   },
   "file_extension": ".py",
   "mimetype": "text/x-python",
   "name": "python",
   "nbconvert_exporter": "python",
   "pygments_lexer": "ipython3",
   "version": "3.9.19"
  }
 },
 "nbformat": 4,
 "nbformat_minor": 2
}
