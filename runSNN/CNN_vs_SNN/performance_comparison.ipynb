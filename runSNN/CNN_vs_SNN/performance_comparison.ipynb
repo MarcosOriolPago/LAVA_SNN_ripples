{
 "cells": [
  {
   "cell_type": "markdown",
   "metadata": {},
   "source": [
    "# Comparison of SNN and CNN on LFPs Recorded from Mice\n",
    "\n",
    "In this notebook, we explore the performance of Spiking Neural Networks (SNN) and Convolutional Neural Networks (CNN) for analyzing Local Field Potentials (LFPs) recorded from mice. LFPs provide valuable insights into the neural activity at the population level, capturing oscillatory patterns and synchronous neuronal firing.\n",
    "\n",
    "## Objectives\n",
    "- Evaluate the performance metrics such as accuracy, precision, recall, and F1-score.\n",
    "- Showcase the strengths and limitations of each model in analyzing LFPs.\n",
    "\n",
    "This notebook aims to validate the effectiveness of SNN in detecting Sharp Wave Ripples."
   ]
  },
  {
   "cell_type": "code",
   "execution_count": 1,
   "metadata": {},
   "outputs": [],
   "source": [
    "# IMPORTS\n",
    "import sys\n",
    "import numpy as np\n",
    "sys.path.insert(0, '../')\n",
    "sys.path.insert(0, '../../trainSNN/')\n",
    "sys.path.insert(0, '../../liset_tk/')\n",
    "sys.path.insert(0, '../../utils/')\n",
    "from liset_tk import liset_tk\n",
    "from liset_aux import load_ripple_times\n",
    "from signal_aid import *\n",
    "from eval import modelEval\n",
    "from plots.plot_line import create_fig\n",
    "from models import torchSNN\n",
    "\n",
    "SHNK_CHANNEL_OF_STUDY = 5 # Channel for doing the predictions in the SNN (Aparently the better)"
   ]
  },
  {
   "cell_type": "markdown",
   "metadata": {},
   "source": [
    "### **Load the data with `liset_tk()` module**"
   ]
  },
  {
   "cell_type": "markdown",
   "metadata": {},
   "source": [
    "If a competent computer is available run here:"
   ]
  },
  {
   "cell_type": "code",
   "execution_count": 2,
   "metadata": {},
   "outputs": [
    {
     "name": "stdout",
     "output_type": "stream",
     "text": [
      "Downsampling data from 30000 Hz to 4000 Hz... Done!\n",
      "Normalizing data... Done!\n",
      "Shape of loaded data after downsampling and z-score:  (133333, 8)\n"
     ]
    }
   ],
   "source": [
    "data_paths = [\n",
    "    '../../../CNN_TRAINING_SESSIONS/Amigo2_1_hippo_2019-07-11_11-57-07_1150um',\n",
    "    '../../../CNN_TRAINING_SESSIONS/Som_2_hippo_2019-07-24_12-01-49_1530um'\n",
    "]\n",
    "\n",
    "data_path = data_paths[0]\n",
    "data_loader = liset_tk(data_path, shank=3, downsample=4000, start=4000000, numSamples=1000000)\n",
    "channel = bandpass_filter(data_loader.data[:, 5], [100, 250], data_loader.fs) # Filter the channel of interest"
   ]
  },
  {
   "cell_type": "markdown",
   "metadata": {},
   "source": [
    "Load the ripples for later validation"
   ]
  },
  {
   "cell_type": "code",
   "execution_count": 3,
   "metadata": {},
   "outputs": [],
   "source": [
    "ripple_times = load_ripple_times(data_path)"
   ]
  },
  {
   "cell_type": "code",
   "execution_count": 5,
   "metadata": {},
   "outputs": [
    {
     "data": {
      "text/plain": [
       "(1309, 2)"
      ]
     },
     "execution_count": 5,
     "metadata": {},
     "output_type": "execute_result"
    }
   ],
   "source": [
    "ripple_times.shape"
   ]
  },
  {
   "cell_type": "markdown",
   "metadata": {},
   "source": [
    "Alternatively run it in smaller chunks to avoid memory issues"
   ]
  },
  {
   "cell_type": "code",
   "execution_count": 4,
   "metadata": {},
   "outputs": [
    {
     "name": "stdout",
     "output_type": "stream",
     "text": [
      "Converting channel to spikes ...\n"
     ]
    }
   ],
   "source": [
    "import os\n",
    "data_path = data_paths[0] # Change accordingly to the current dataset\n",
    "samples = os.path.getsize(data_path + '/lfp.dat') / 43 / 4\n",
    "batch_size = 5000000\n",
    "SNN_output = []\n",
    "channel_long = []\n",
    "\n",
    "for batch in range(int(samples / batch_size) + 1):\n",
    "    start = batch * batch_size\n",
    "    Som_2 = liset_tk(data_path, shank=3, downsample=4000, start=start, numSamples=batch_size, verbose=False)\n",
    "    channel = bandpass_filter(Som_2.data[:, SHNK_CHANNEL_OF_STUDY], [100, 250], Som_2.fs) # Filter the channel of interest\n",
    "    channel_long.append(channel)\n",
    "\n",
    "    print(f'Batch: {batch} of {int(samples / batch_size)}', end='\\r')\n",
    "\n",
    "# Convert the channel to spikes\n",
    "print('Converting channel to spikes ...')\n",
    "channel = np.concatenate(channel_long)\n",
    "spikes = y_discretize_1Dsignal(channel, 50)\n",
    "del Som_2, channel_long"
   ]
  },
  {
   "cell_type": "code",
   "execution_count": 51,
   "metadata": {},
   "outputs": [],
   "source": [
    "# Save the channel for later faster loading with numpy\n",
    "np.save('../../../bootstrap_data/spikes_chann_Som_2.npy', arr=spikes, allow_pickle=True)"
   ]
  },
  {
   "cell_type": "markdown",
   "metadata": {},
   "source": [
    "## **Predict with CNN model**"
   ]
  },
  {
   "cell_type": "markdown",
   "metadata": {},
   "source": [
    "Predict through the loaded data"
   ]
  },
  {
   "cell_type": "code",
   "execution_count": null,
   "metadata": {},
   "outputs": [],
   "source": [
    "data_path = '../../../CNN_TRAINING_SESSIONS/Amigo2_1_hippo_2019-07-11_11-57-07_1150um'\n",
    "liset = liset_tk(data_path, shank=3, downsample=1250, start=4000000, numSamples=1000000)\n",
    "\n",
    "liset.load_model('CNN')\n",
    "liset.predict(threshold=0.3) # Optimized for performance metrics\n",
    "CNN_preds = liset.prediction_idxs"
   ]
  },
  {
   "cell_type": "code",
   "execution_count": 9,
   "metadata": {},
   "outputs": [
    {
     "name": "stdout",
     "output_type": "stream",
     "text": [
      "Batch: 6 of 6\r"
     ]
    }
   ],
   "source": [
    "# If no high memory available run through small batches\n",
    "import os\n",
    "data_path = '../../../CNN_TRAINING_SESSIONS/Som_2_hippo_2019-07-24_12-01-49_1530um'\n",
    "samples = os.path.getsize(data_path + '/lfp.dat') / 43 / 2\n",
    "batch_size = 5000000\n",
    "channels_long = []\n",
    "\n",
    "for batch in range(int(samples / batch_size) + 1):\n",
    "    start = batch * batch_size\n",
    "    Som_2 = liset_tk(data_path, shank=3, downsample=1250, start=start, numSamples=batch_size, verbose=False)\n",
    "    channels_long.append(Som_2.data)\n",
    "\n",
    "    print(f'Batch: {batch} of {int(samples / batch_size)}', end='\\r')\n",
    "\n",
    "\n",
    "Som_2_data = np.concatenate(channels_long)\n",
    "del channels_long\n",
    "# Set the liset data to the whole data\n",
    "Som_2.data = Som_2_data\n",
    "Som_2.verbose = True"
   ]
  },
  {
   "cell_type": "code",
   "execution_count": 11,
   "metadata": {},
   "outputs": [],
   "source": [
    "# Load model and inference with it\n",
    "Som_2.load_model('CNN')\n",
    "Som_2.predict(threshold=0.3)\n",
    "CNN_preds = Som_2.prediction_idxs"
   ]
  },
  {
   "cell_type": "markdown",
   "metadata": {},
   "source": [
    "Otherwise load previoulsy computed CNN predictions"
   ]
  },
  {
   "cell_type": "code",
   "execution_count": 38,
   "metadata": {},
   "outputs": [],
   "source": [
    "CNN_preds = np.load('../data/CNN_preds_Amigo2.npy') * (4000/1250)"
   ]
  },
  {
   "cell_type": "markdown",
   "metadata": {},
   "source": [
    "Evaluate the predicions"
   ]
  },
  {
   "cell_type": "code",
   "execution_count": 12,
   "metadata": {},
   "outputs": [],
   "source": [
    "validateCNN = modelEval(ripple_times * 1250, 'CNN', title='Som_2')"
   ]
  },
  {
   "cell_type": "code",
   "execution_count": 26,
   "metadata": {},
   "outputs": [
    {
     "data": {
      "image/png": "[encoded data removed]",
      "text/plain": [
       "<Figure size 600x600 with 1 Axes>"
      ]
     },
     "metadata": {},
     "output_type": "display_data"
    }
   ],
   "source": [
    "validateCNN(CNN_preds, chart='../img/perf_CNN_Som_2.svg')"
   ]
  },
  {
   "cell_type": "markdown",
   "metadata": {},
   "source": [
    "## **Load SNN model and do predictions on loaded data**"
   ]
  },
  {
   "cell_type": "markdown",
   "metadata": {},
   "source": [
    "Load the data and model"
   ]
  },
  {
   "cell_type": "code",
   "execution_count": 5,
   "metadata": {},
   "outputs": [],
   "source": [
    "snn_path ='../../trainSNN/optimized_model/pytorchNetwork/256_128/E50_Y50/network.pt'\n",
    "net = torchSNN(snn_path)"
   ]
  },
  {
   "cell_type": "markdown",
   "metadata": {},
   "source": [
    "Predict on the spiking data"
   ]
  },
  {
   "cell_type": "code",
   "execution_count": 31,
   "metadata": {},
   "outputs": [
    {
     "ename": "",
     "evalue": "",
     "output_type": "error",
     "traceback": [
      "\u001b[1;31mThe Kernel crashed while executing code in the current cell or a previous cell. \n",
      "\u001b[1;31mPlease review the code in the cell(s) to identify a possible cause of the failure. \n",
      "\u001b[1;31mClick <a href='https://aka.ms/vscodeJupyterKernelCrash'>here</a> for more info. \n",
      "\u001b[1;31mView Jupyter <a href='command:jupyter.viewOutput'>log</a> for further details."
     ]
    }
   ],
   "source": [
    "spikes = np.load('../../../bootstrap_data/spikes_chann_Amigo2.npy')"
   ]
  },
  {
   "cell_type": "code",
   "execution_count": 8,
   "metadata": {},
   "outputs": [
    {
     "data": {
      "text/plain": [
       "(50, 5333336)"
      ]
     },
     "execution_count": 8,
     "metadata": {},
     "output_type": "execute_result"
    }
   ],
   "source": [
    "spikes.shape"
   ]
  },
  {
   "cell_type": "code",
   "execution_count": 9,
   "metadata": {},
   "outputs": [
    {
     "name": "stdout",
     "output_type": "stream",
     "text": [
      "Batch: 44 of 533\r"
     ]
    }
   ],
   "source": [
    "import os\n",
    "\n",
    "# Divide on chunks for \n",
    "samples = spikes.shape[1]\n",
    "batch_size = 10000\n",
    "SNN_output = []\n",
    "SNN_output_long = []\n",
    "\n",
    "for batch in range(int(samples / batch_size)):\n",
    "    start = batch * batch_size\n",
    "    output = net(spikes[:, start:(start + batch_size)])\n",
    "    SNN_output_long.append(output)\n",
    "\n",
    "    print(f'Batch: {batch} of {int(samples / batch_size)}', end='\\r')\n",
    "\n",
    "output = net(spikes[:, (batch+1)*batch_size:])\n",
    "SNN_output_long.append(output)\n",
    "\n",
    "# Convert the channel to spikes\n",
    "SNN_output = np.concatenate(SNN_output_long)\n",
    "# np.save('../../../bootstrap_data/SNN_output_Amigo2.npy', arr=SNN_output, allow_pickle=True)"
   ]
  },
  {
   "cell_type": "markdown",
   "metadata": {},
   "source": [
    "Otherwise load the previously predicted output"
   ]
  },
  {
   "cell_type": "code",
   "execution_count": 28,
   "metadata": {},
   "outputs": [],
   "source": [
    "import numpy as np\n",
    "SNN_output = np.load('../../../bootstrap_data/SNN_output_Amigo2.npy')\n",
    "SNN_output[SNN_output==0] = None\n",
    "SNN_preds = detect_rate_increase(SNN_output, window_size=130, threshold=30)"
   ]
  },
  {
   "cell_type": "code",
   "execution_count": null,
   "metadata": {},
   "outputs": [],
   "source": [
    "# Alternatively load the predicted ripples by SNN model\n",
    "SNN_preds = np.load('../../data/pytorchSNN_predictions2.npy')"
   ]
  },
  {
   "cell_type": "markdown",
   "metadata": {},
   "source": [
    "Evaluate the predictions"
   ]
  },
  {
   "cell_type": "code",
   "execution_count": 17,
   "metadata": {},
   "outputs": [],
   "source": [
    "validateSNN = modelEval(ripple_times * 4000, 'SNN')"
   ]
  },
  {
   "cell_type": "code",
   "execution_count": 27,
   "metadata": {},
   "outputs": [
    {
     "data": {
      "image/png": "[encoded data removed]",
      "text/plain": [
       "<Figure size 600x600 with 1 Axes>"
      ]
     },
     "metadata": {},
     "output_type": "display_data"
    }
   ],
   "source": [
    "validateSNN(SNN_preds, chart='../img/perf_SNN_Som_2.svg')"
   ]
  },
  {
   "cell_type": "markdown",
   "metadata": {},
   "source": [
    "## **Visualize the predictions**"
   ]
  },
  {
   "cell_type": "markdown",
   "metadata": {},
   "source": [
    "### **Create interactive plot**"
   ]
  },
  {
   "cell_type": "code",
   "execution_count": null,
   "metadata": {},
   "outputs": [],
   "source": [
    "start, stop = 0, 250000\n",
    "fs = liset.fs\n",
    "x = np.arange(start/fs, stop / fs, 1/fs)\n",
    "\n",
    "hfo_plot = create_fig(\n",
    "    title = 'Validation test',\n",
    "    x_axis_label='Time (s)',\n",
    "    y_axis_label='',\n",
    "    x = x,\n",
    "    y_arrays=[\n",
    "        [channel[start:stop] - 5, 'Filtered LFPs'],\n",
    "        ],\n",
    "    sizing_mode=\"stretch_both\", \n",
    "    tools=\"pan, box_zoom, wheel_zoom, hover, undo, redo, zoom_in, zoom_out, reset, save\",\n",
    "    tooltips=\"Data point @x: @y\",\n",
    "    legend_location=\"top_right\"\n",
    "    )\n",
    "\n",
    "scatter_plot = hfo_plot.scatter(x, SNN_output[start:stop] * -7, size=2, color=\"Black\", alpha=0.6, legend_label=\"SNN Output\")\n",
    "\n",
    "hfo_plot.xgrid.visible = False\n",
    "hfo_plot.ygrid.visible = False"
   ]
  },
  {
   "cell_type": "code",
   "execution_count": null,
   "metadata": {},
   "outputs": [],
   "source": [
    "from bokeh.models import BoxAnnotation\n",
    "\n",
    "# GROUND TRUTH\n",
    "mask_ripples = (ripples[:, 1] >= start) & (ripples[:, 0] <= stop)\n",
    "window_GT = ripples[mask_ripples] / fs\n",
    "\n",
    "for ripple in window_GT:\n",
    "    vfill = BoxAnnotation(left=ripple[0], right=ripple[1], fill_alpha=0.3, fill_color='#EC6F8F')\n",
    "    hfo_plot.add_layout(vfill)\n",
    "\n",
    "# SNN \n",
    "mask_SNN = (SNN_preds[:, 1] >= start) & (SNN_preds[:, 0] <= stop)\n",
    "window_SNN = SNN_preds[mask_SNN] / fs\n",
    "\n",
    "for pred in window_SNN:\n",
    "    vfill = BoxAnnotation(left=pred[0], right=pred[1], fill_alpha=0.3, fill_color='#F7E290')\n",
    "    hfo_plot.add_layout(vfill)\n",
    "\n",
    "# CNN\n",
    "mask_CNN = (CNN_preds[:, 1] >= start) & (CNN_preds[:, 0] <= stop)\n",
    "window_CNN = CNN_preds[mask_CNN] / fs\n",
    "\n",
    "for pred in window_CNN:\n",
    "    vfill = BoxAnnotation(left=pred[0], right=pred[1], fill_alpha=0.3, fill_color='#266AC1')\n",
    "    hfo_plot.add_layout(vfill)\n",
    "\n",
    "# STYLINGS\n",
    "hfo_plot.yaxis.axis_line_color = None\n",
    "hfo_plot.yaxis.major_tick_line_color = None\n",
    "hfo_plot.yaxis.minor_tick_line_color = None\n",
    "hfo_plot.yaxis.major_label_text_font_size = '0pt'"
   ]
  },
  {
   "cell_type": "markdown",
   "metadata": {},
   "source": [
    "### **Save as html and explore dynamically**"
   ]
  },
  {
   "cell_type": "code",
   "execution_count": null,
   "metadata": {},
   "outputs": [],
   "source": [
    "import bokeh.plotting as bplt\n",
    "\n",
    "file_path = f\"validation_test_plain.html\"\n",
    "\n",
    "# Customize the output file settings\n",
    "bplt.output_file(filename=file_path, title=\"Voltage dynamics across time\")\n",
    "\n",
    "# Save the plot\n",
    "bplt.save(hfo_plot)"
   ]
  },
  {
   "cell_type": "markdown",
   "metadata": {},
   "source": [
    "### **Plot the region of interest**"
   ]
  },
  {
   "cell_type": "code",
   "execution_count": null,
   "metadata": {},
   "outputs": [],
   "source": [
    "import matplotlib.pyplot as plt\n",
    "from matplotlib.patches import Patch\n",
    "from matplotlib.font_manager import FontProperties\n",
    "\n",
    "# Set the window of interest\n",
    "start, stop = 17.6 * 4000, 18.6 *4000\n",
    "# Define plotting variables\n",
    "x = np.arange(start/fs, stop / fs, 1/fs) # X axis vector\n",
    "data = channel[int(start):int(stop)]\n",
    "color = '#316AB3'\n",
    "min, max = np.min(data) * 1.1, np.max(data) * 1.1 # Give margin for the fills\n",
    "\n",
    "# Extract the events of that window (GT, predictions) --> (start, stop)\n",
    "# GT\n",
    "mask_ripples = (ripples[:, 1] >= start) & (ripples[:, 0] <= stop)\n",
    "window_GT = ripples[mask_ripples] / fs\n",
    "\n",
    "# SNN \n",
    "mask_SNN = (SNN_preds[:, 1] >= start) & (SNN_preds[:, 0] <= stop)\n",
    "window_SNN = SNN_preds[mask_SNN] / fs\n",
    "\n",
    "# CNN\n",
    "mask_CNN = (CNN_preds[:, 1] >= start) & (CNN_preds[:, 0] <= stop - 100)\n",
    "window_CNN = CNN_preds[mask_CNN] / fs\n",
    "\n",
    "\n",
    "# Plot\n",
    "plt.style.use('seaborn-v0_8-paper')\n",
    "plt.figure(0, figsize=(20,10))\n",
    "fig, ax = plt.subplots(1,1, figsize=(20,10))\n",
    "\n",
    "fill_LFP, = ax.plot(x, liset.data[int(start):int(stop), 5] + 2, color='#54B479')\n",
    "fill_filtered, = ax.plot(x, data - 4, color=color)\n",
    "ax.plot(x, data - 8, color=color)\n",
    "ax.plot(x, data - 12, color=color)\n",
    "\n",
    "# Fill the areas of the events\n",
    "for ripple in window_GT:\n",
    "    vfill = '#EC6F8F'\n",
    "    plt.fill_between(ripple, min - 4, max - 4, color=vfill, alpha=0.3)\n",
    "    \n",
    "\n",
    "for pred in window_SNN:\n",
    "    vfill = '#F7E290'\n",
    "    plt.fill_between(pred, min - 8, max - 8, color=vfill, alpha=0.3)\n",
    "\n",
    "for pred in window_CNN:\n",
    "    vfill = '#266AC1'\n",
    "    plt.fill_between(pred, min - 12, max - 12, color=vfill, alpha=0.3)\n",
    "\n",
    "fill_GT = Patch(color='#EC6F8F', alpha=0.3, label='Ground Truth')\n",
    "fill_SNN = Patch(color='#F7E290', alpha=0.3, label='SNN')\n",
    "fill_CNN = Patch(color='#266AC1', alpha=0.3, label='CNN')\n",
    "\n",
    "labels = ['LFPs', 'Filtered LFPs', 'Ground Truth', 'SNN', 'CNN']\n",
    "fills = [fill_LFP, fill_filtered, fill_GT, fill_SNN, fill_CNN]\n",
    "\n",
    "# Stylings\n",
    "ax.spines['bottom'].set_visible(False)\n",
    "ax.spines['top'].set_visible(False)\n",
    "ax.spines['left'].set_visible(False)\n",
    "ax.spines['right'].set_visible(False)\n",
    "ax.set_yticks([])\n",
    "ax.set_yticklabels([])\n",
    "ax.tick_params(axis='x', labelsize=10)\n",
    "\n",
    "plt.legend(fills, labels, fontsize=10)\n",
    "plt.xlabel('Time (s)',fontsize=11)\n",
    "font_properties = FontProperties(size=18, weight='bold')\n",
    "text = plt.suptitle('SNN vs CNN', x=0.5, y=0.9, fontproperties=font_properties)\n",
    "\n",
    "# Save the plot as .svg\n",
    "# plt.savefig('../img/SNN_vs_CNN.svg', format='svg', bbox_inches='tight', pad_inches=0)"
   ]
  }
 ],
 "metadata": {
  "kernelspec": {
   "display_name": "Python 3",
   "language": "python",
   "name": "python3"
  },
  "language_info": {
   "codemirror_mode": {
    "name": "ipython",
    "version": 3
   },
   "file_extension": ".py",
   "mimetype": "text/x-python",
   "name": "python",
   "nbconvert_exporter": "python",
   "pygments_lexer": "ipython3",
   "version": "3.9.19"
  }
 },
 "nbformat": 4,
 "nbformat_minor": 2
}
